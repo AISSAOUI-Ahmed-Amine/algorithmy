{
  "nbformat": 4,
  "nbformat_minor": 0,
  "metadata": {
    "colab": {
      "provenance": []
    },
    "kernelspec": {
      "name": "python3",
      "display_name": "Python 3"
    },
    "language_info": {
      "name": "python"
    }
  },
  "cells": [
    {
      "cell_type": "code",
      "execution_count": null,
      "metadata": {
        "id": "GoNfmfuThs2_"
      },
      "outputs": [],
      "source": [
        "def factorial(n):\n",
        "    if n == 0 or n == 1:\n",
        "        return 1\n",
        "    else:\n",
        "        return n * factorial(n - 1)\n",
        "num = int(input(\"Enter a number: \"))\n",
        "if num < 0:\n",
        "    print(\"error\")\n",
        "else:\n",
        "    result = factorial(num)\n",
        "    print(f\"The factorial of {num} is: {result}\""
      ]
    },
    {
      "cell_type": "code",
      "source": [
        "def power(x, n):\n",
        "    if n == 0:\n",
        "        return 1\n",
        "    elif n < 0:\n",
        "        return 1 / power(x, -n)\n",
        "    else:\n",
        "        return x * power(x, n - 1)\n",
        "\n",
        "x = float(input(\"Enter a number: \"))\n",
        "n = int(input(\"Enter the exponent: \"))\n",
        "result = power(x, n)\n",
        "print(f\"{x}^{n} is: {result}\"\n"
      ],
      "metadata": {
        "id": "YtEMpXeMiVkq"
      },
      "execution_count": null,
      "outputs": []
    },
    {
      "cell_type": "code",
      "source": [
        "def print_board(board):\n",
        "    for row in board:\n",
        "        print(\" \".join(row))\n",
        "\n",
        "def is_safe(board, row, col):\n",
        "    for i in range(col):\n",
        "        if board[row][i] == 'X':\n",
        "            return False\n",
        "\n",
        "    for i, j in zip(range(row, -1, -1), range(col, -1, -1)):\n",
        "        if board[i][j] == 'X':\n",
        "            return False\n",
        "\n",
        "    for i, j in zip(range(row, len(board), 1), range(col, -1, -1)):\n",
        "        if board[i][j] == 'X':\n",
        "            return False\n",
        "\n",
        "    return True\n",
        "\n",
        "def place_checkers(board, col):\n",
        "    if col >= len(board):\n",
        "        return True\n",
        "\n",
        "    for i in range(len(board)):\n",
        "        if is_safe(board, i, col):\n",
        "            board[i][col] = 'X'\n",
        "            if place_checkers(board, col + 1):\n",
        "                return True\n",
        "            board[i][col] = 'O'\n",
        "    return False\n",
        "\n",
        "\n",
        "n = int(input(\"Enter board size: \"))\n",
        "if n <= 0:\n",
        "    print(\"Please enter a positive number\")\n",
        "else:\n",
        "    board = [['O' for _ in range(n)] for _ in range(n)\n",
        "    if place_checkers(board, 0):\n",
        "        print(\"Chess Board:\")\n",
        "        print_board(board)\n",
        "    else:\n",
        "        print(f\"No solution found for {n} checkers on a {n}x{n} board.\")\n"
      ],
      "metadata": {
        "id": "EU-_NXm6is5f"
      },
      "execution_count": null,
      "outputs": []
    },
    {
      "cell_type": "code",
      "source": [
        "from collections import deque\n",
        "\n",
        "with open(\"maze.mz\", \"r\") as maze_file:\n",
        "    maze = [list(line.strip()) for line in maze_file]\n",
        "\n",
        "def is_valid(x, y):\n",
        "    return 0 <= x < len(maze) and 0 <= y < len(maze[0]) and maze[x][y] == ' '\n",
        "\n",
        "def bfs(start, end):\n",
        "    queue = deque([(start, [])])\n",
        "    visited = set()\n",
        "\n",
        "    while queue:\n",
        "        (x, y), path = queue.popleft()\n",
        "        visited.add((x, y))\n",
        "\n",
        "        if (x, y) == end:\n",
        "            for px, py in path:\n",
        "                maze[px][py] = 'X'\n",
        "            return True\n",
        "\n",
        "        for dx, dy in [(1, 0), (-1, 0), (0, 1), (0, -1)]:\n",
        "            new_x, new_y = x + dx, y + dy\n",
        "\n",
        "            if is_valid(new_x, new_y) and (new_x, new_y) not in visited:\n",
        "                queue.append(((new_x, new_y), path + [(new_x, new_y)]))\n",
        "\n",
        "start_point = (0, 0)\n",
        "end_point = (len(maze) - 1, len(maze[0]) - 1)\n",
        "\n",
        "if bfs(start_point, end_point):\n",
        "    with open(\"maze-out.mz\", \"w\") as output_file:\n",
        "        for row in maze:\n",
        "            output_file.write(\"\".join(row) + \"\\n\")\n",
        "    print(\"Maze solved and saved to 'maze-out.mz'.\")\n",
        "else:\n",
        "    print(\"No solution found\")\n",
        "\n"
      ],
      "metadata": {
        "colab": {
          "base_uri": "https://localhost:8080/",
          "height": 245
        },
        "id": "J1O86DW_jNJK",
        "outputId": "32ccd288-e0c3-48be-d445-53ce5b19a7dd"
      },
      "execution_count": 1,
      "outputs": [
        {
          "output_type": "error",
          "ename": "FileNotFoundError",
          "evalue": "ignored",
          "traceback": [
            "\u001b[0;31m---------------------------------------------------------------------------\u001b[0m",
            "\u001b[0;31mFileNotFoundError\u001b[0m                         Traceback (most recent call last)",
            "\u001b[0;32m<ipython-input-1-941120d9fb95>\u001b[0m in \u001b[0;36m<cell line: 3>\u001b[0;34m()\u001b[0m\n\u001b[1;32m      1\u001b[0m \u001b[0;32mfrom\u001b[0m \u001b[0mcollections\u001b[0m \u001b[0;32mimport\u001b[0m \u001b[0mdeque\u001b[0m\u001b[0;34m\u001b[0m\u001b[0;34m\u001b[0m\u001b[0m\n\u001b[1;32m      2\u001b[0m \u001b[0;34m\u001b[0m\u001b[0m\n\u001b[0;32m----> 3\u001b[0;31m \u001b[0;32mwith\u001b[0m \u001b[0mopen\u001b[0m\u001b[0;34m(\u001b[0m\u001b[0;34m\"maze.mz\"\u001b[0m\u001b[0;34m,\u001b[0m \u001b[0;34m\"r\"\u001b[0m\u001b[0;34m)\u001b[0m \u001b[0;32mas\u001b[0m \u001b[0mmaze_file\u001b[0m\u001b[0;34m:\u001b[0m\u001b[0;34m\u001b[0m\u001b[0;34m\u001b[0m\u001b[0m\n\u001b[0m\u001b[1;32m      4\u001b[0m     \u001b[0mmaze\u001b[0m \u001b[0;34m=\u001b[0m \u001b[0;34m[\u001b[0m\u001b[0mlist\u001b[0m\u001b[0;34m(\u001b[0m\u001b[0mline\u001b[0m\u001b[0;34m.\u001b[0m\u001b[0mstrip\u001b[0m\u001b[0;34m(\u001b[0m\u001b[0;34m)\u001b[0m\u001b[0;34m)\u001b[0m \u001b[0;32mfor\u001b[0m \u001b[0mline\u001b[0m \u001b[0;32min\u001b[0m \u001b[0mmaze_file\u001b[0m\u001b[0;34m]\u001b[0m\u001b[0;34m\u001b[0m\u001b[0;34m\u001b[0m\u001b[0m\n\u001b[1;32m      5\u001b[0m \u001b[0;34m\u001b[0m\u001b[0m\n",
            "\u001b[0;31mFileNotFoundError\u001b[0m: [Errno 2] No such file or directory: 'maze.mz'"
          ]
        }
      ]
    },
    {
      "cell_type": "code",
      "source": [
        "def are_strings_identical(s1, s2):\n",
        "    if len(s1) != len(s2):\n",
        "        return False\n",
        "\n",
        "    for i in range(len(s1)):\n",
        "        if s2[i] != '*' and s2[i] != s1[i]:\n",
        "            return False\n",
        "\n",
        "    return True\n",
        "\n",
        "def main():\n",
        "    string1 = input(\"Enter the first string: \")\n",
        "    string2 = input(\"Enter the second string with '*' as wildcards: \")\n",
        "\n",
        "    if are_strings_identical(string1, string2):\n",
        "        print(\"1\")\n",
        "    else:\n",
        "        print(\"0\")\n",
        "\n",
        "if __name__ == \"__main__\":\n",
        "    main()\n"
      ],
      "metadata": {
        "colab": {
          "base_uri": "https://localhost:8080/"
        },
        "id": "nMTSdxXjjglQ",
        "outputId": "955ac611-3f79-4535-c5da-38adb1070ac8"
      },
      "execution_count": 8,
      "outputs": [
        {
          "output_type": "stream",
          "name": "stdout",
          "text": [
            "Enter the first string: harrypotter\n",
            "Enter the second string with '*' as wildcards: harry*otter\n",
            "1\n"
          ]
        }
      ]
    },
    {
      "cell_type": "code",
      "source": [
        "!pip install pygame\n",
        "import pygame\n",
        "import sys\n",
        "\n",
        "# Initialize Pygame\n",
        "pygame.init()\n",
        "\n",
        "# Constants\n",
        "WINDOW_SIZE = 600\n",
        "GRID_SIZE = 3\n",
        "CELL_SIZE = WINDOW_SIZE // GRID_SIZE\n",
        "LINE_WIDTH = 15\n",
        "LINE_COLOR = (0, 0, 0)\n",
        "PLAYER_X_COLOR = (255, 0, 0)\n",
        "PLAYER_O_COLOR = (0, 0, 255)\n",
        "FONT_SIZE = 80\n",
        "FONT_COLOR = (0, 0, 0)\n",
        "FONT = pygame.font.Font(None, FONT_SIZE)\n",
        "GAME_TITLE = \"TicTacToe1337\"\n",
        "\n",
        "# Create the game window\n",
        "window = pygame.display.set_mode((WINDOW_SIZE, WINDOW_SIZE))\n",
        "pygame.display.set_caption(GAME_TITLE)\n",
        "\n",
        "# Initialize the game board\n",
        "board = [['' for _ in range(GRID_SIZE)] for _ in range(GRID_SIZE)]\n",
        "current_player = 'X'\n",
        "winner = None\n",
        "game_over = False\n",
        "\n",
        "# Function to draw the grid lines\n",
        "def draw_grid():\n",
        "    for row in range(1, GRID_SIZE):\n",
        "        pygame.draw.line(window, LINE_COLOR, (0, row * CELL_SIZE), (WINDOW_SIZE, row * CELL_SIZE), LINE_WIDTH)\n",
        "        pygame.draw.line(window, LINE_COLOR, (row * CELL_SIZE, 0), (row * CELL_SIZE, WINDOW_SIZE), LINE_WIDTH)\n",
        "\n",
        "# Function to draw X or O in a cell\n",
        "def draw_symbol(row, col):\n",
        "    x_pos = col * CELL_SIZE + CELL_SIZE // 2\n",
        "    y_pos = row * CELL_SIZE + CELL_SIZE // 2\n",
        "\n",
        "    if board[row][col] == 'X':\n",
        "        pygame.draw.line(window, PLAYER_X_COLOR, (x_pos - 50, y_pos - 50), (x_pos + 50, y_pos + 50), LINE_WIDTH)\n",
        "        pygame.draw.line(window, PLAYER_X_COLOR, (x_pos - 50, y_pos + 50), (x_pos + 50, y_pos - 50), LINE_WIDTH)\n",
        "    elif board[row][col] == 'O':\n",
        "        pygame.draw.circle(window, PLAYER_O_COLOR, (x_pos, y_pos), 50, LINE_WIDTH)\n",
        "\n",
        "# Function to check for a win\n",
        "def check_win(player):\n",
        "    # Check rows and columns\n",
        "    for i in range(GRID_SIZE):\n",
        "        if all([board[i][j] == player for j in range(GRID_SIZE)]) or all([board[j][i] == player for j in range(GRID_SIZE)]):\n",
        "            return True\n",
        "\n",
        "    # Check diagonals\n",
        "    if all([board[i][i] == player for i in range(GRID_SIZE)]) or all([board[i][GRID_SIZE - 1 - i] == player for i in range(GRID_SIZE)]):\n",
        "        return True\n",
        "\n",
        "    return False\n",
        "\n",
        "# Function to check for a tie\n",
        "def check_tie():\n",
        "    return all([cell != '' for row in board for cell in row])\n",
        "\n",
        "# Main game loop\n",
        "while True:\n",
        "    for event in pygame.event.get():\n",
        "        if event.type == pygame.QUIT:\n",
        "            pygame.quit()\n",
        "            sys.exit()\n",
        "\n",
        "        if game_over:\n",
        "            continue\n",
        "\n",
        "        if event.type == pygame.MOUSEBUTTONDOWN:\n",
        "            x, y = pygame.mouse.get_pos()\n",
        "            clicked_row = y // CELL_SIZE\n",
        "            clicked_col = x // CELL_SIZE\n",
        "\n",
        "            if 0 <= clicked_row < GRID_SIZE and 0 <= clicked_col < GRID_SIZE and board[clicked_row][clicked_col] == '':\n",
        "                board[clicked_row][clicked_col] = current_player\n",
        "\n",
        "                if check_win(current_player):\n",
        "                    winner = current_player\n",
        "                    game_over = True\n",
        "                elif check_tie():\n",
        "                    game_over = True\n",
        "                else:\n",
        "                    current_player = 'O' if current_player == 'X' else 'X'\n",
        "\n",
        "    window.fill((255, 255, 255))\n",
        "    draw_grid()\n",
        "\n",
        "    for row in range(GRID_SIZE):\n",
        "        for col in range(GRID_SIZE):\n",
        "            if board[row][col] == 'X' or board[row][col] == 'O':\n",
        "                draw_symbol(row, col)\n",
        "\n",
        "    if winner:\n",
        "        result_text = FONT.render(f\"Player {winner} wins!\", True, FONT_COLOR)\n",
        "        window.blit(result_text, (WINDOW_SIZE // 2 - FONT_SIZE * 2, WINDOW_SIZE // 2 - FONT_SIZE // 2))\n",
        "    elif game_over:\n",
        "        result_text = FONT.render(\"It's a tie!\", True, FONT_COLOR)\n",
        "        window.blit(result_text, (WINDOW_SIZE // 2 - FONT_SIZE, WINDOW_SIZE // 2 - FONT_SIZE // 2))\n",
        "\n",
        "    pygame.display.flip()\n"
      ],
      "metadata": {
        "colab": {
          "base_uri": "https://localhost:8080/",
          "height": 227
        },
        "id": "PfQ-cq79kZWz",
        "outputId": "7137d5fd-3fc2-4c92-a1c9-53d128b3bc56"
      },
      "execution_count": 12,
      "outputs": [
        {
          "output_type": "stream",
          "name": "stdout",
          "text": [
            "Requirement already satisfied: pygame in /usr/local/lib/python3.10/dist-packages (2.5.1)\n"
          ]
        },
        {
          "output_type": "error",
          "ename": "KeyboardInterrupt",
          "evalue": "ignored",
          "traceback": [
            "\u001b[0;31m---------------------------------------------------------------------------\u001b[0m",
            "\u001b[0;31mKeyboardInterrupt\u001b[0m                         Traceback (most recent call last)",
            "\u001b[0;32m<ipython-input-12-b626aee6e4d9>\u001b[0m in \u001b[0;36m<cell line: 66>\u001b[0;34m()\u001b[0m\n\u001b[1;32m    104\u001b[0m         \u001b[0mwindow\u001b[0m\u001b[0;34m.\u001b[0m\u001b[0mblit\u001b[0m\u001b[0;34m(\u001b[0m\u001b[0mresult_text\u001b[0m\u001b[0;34m,\u001b[0m \u001b[0;34m(\u001b[0m\u001b[0mWINDOW_SIZE\u001b[0m \u001b[0;34m//\u001b[0m \u001b[0;36m2\u001b[0m \u001b[0;34m-\u001b[0m \u001b[0mFONT_SIZE\u001b[0m\u001b[0;34m,\u001b[0m \u001b[0mWINDOW_SIZE\u001b[0m \u001b[0;34m//\u001b[0m \u001b[0;36m2\u001b[0m \u001b[0;34m-\u001b[0m \u001b[0mFONT_SIZE\u001b[0m \u001b[0;34m//\u001b[0m \u001b[0;36m2\u001b[0m\u001b[0;34m)\u001b[0m\u001b[0;34m)\u001b[0m\u001b[0;34m\u001b[0m\u001b[0;34m\u001b[0m\u001b[0m\n\u001b[1;32m    105\u001b[0m \u001b[0;34m\u001b[0m\u001b[0m\n\u001b[0;32m--> 106\u001b[0;31m     \u001b[0mpygame\u001b[0m\u001b[0;34m.\u001b[0m\u001b[0mdisplay\u001b[0m\u001b[0;34m.\u001b[0m\u001b[0mflip\u001b[0m\u001b[0;34m(\u001b[0m\u001b[0;34m)\u001b[0m\u001b[0;34m\u001b[0m\u001b[0;34m\u001b[0m\u001b[0m\n\u001b[0m",
            "\u001b[0;31mKeyboardInterrupt\u001b[0m: "
          ]
        }
      ]
    },
    {
      "cell_type": "code",
      "source": [],
      "metadata": {
        "id": "WjsKWXummGkS"
      },
      "execution_count": null,
      "outputs": []
    }
  ]
}