{
  "nbformat": 4,
  "nbformat_minor": 0,
  "metadata": {
    "colab": {
      "provenance": []
    },
    "kernelspec": {
      "name": "python3",
      "display_name": "Python 3"
    },
    "language_info": {
      "name": "python"
    }
  },
  "cells": [
    {
      "cell_type": "code",
      "execution_count": 1,
      "metadata": {
        "colab": {
          "base_uri": "https://localhost:8080/"
        },
        "id": "YEWdjNzCyyuo",
        "outputId": "694a535b-7365-4f42-b798-b48454768d6c"
      },
      "outputs": [
        {
          "output_type": "stream",
          "name": "stdout",
          "text": [
            "1\n",
            "2\n",
            "Fizz\n",
            "4\n",
            "Buzz\n",
            "Fizz\n",
            "7\n",
            "8\n",
            "Fizz\n",
            "Buzz\n",
            "11\n",
            "Fizz\n",
            "13\n",
            "14\n",
            "FizzBuzz\n",
            "16\n",
            "17\n",
            "Fizz\n",
            "19\n",
            "Buzz\n",
            "Fizz\n",
            "22\n",
            "23\n",
            "Fizz\n",
            "Buzz\n",
            "26\n",
            "Fizz\n",
            "28\n",
            "29\n",
            "FizzBuzz\n",
            "31\n",
            "32\n",
            "Fizz\n",
            "34\n",
            "Buzz\n",
            "Fizz\n",
            "37\n",
            "38\n",
            "Fizz\n",
            "Buzz\n",
            "41\n",
            "Fizz\n",
            "43\n",
            "44\n",
            "FizzBuzz\n",
            "46\n",
            "47\n",
            "Fizz\n",
            "49\n",
            "Buzz\n",
            "Fizz\n",
            "52\n",
            "53\n",
            "Fizz\n",
            "Buzz\n",
            "56\n",
            "Fizz\n",
            "58\n",
            "59\n",
            "FizzBuzz\n",
            "61\n",
            "62\n",
            "Fizz\n",
            "64\n",
            "Buzz\n",
            "Fizz\n",
            "67\n",
            "68\n",
            "Fizz\n",
            "Buzz\n",
            "71\n",
            "Fizz\n",
            "73\n",
            "74\n",
            "FizzBuzz\n",
            "76\n",
            "77\n",
            "Fizz\n",
            "79\n",
            "Buzz\n",
            "Fizz\n",
            "82\n",
            "83\n",
            "Fizz\n",
            "Buzz\n",
            "86\n",
            "Fizz\n",
            "88\n",
            "89\n",
            "FizzBuzz\n",
            "91\n",
            "92\n",
            "Fizz\n",
            "94\n",
            "Buzz\n",
            "Fizz\n",
            "97\n",
            "98\n",
            "Fizz\n",
            "Buzz\n"
          ]
        }
      ],
      "source": [
        "for num in range(1, 101):\n",
        "    if num % 3 == 0 and num % 5 == 0:\n",
        "        print(\"FizzBuzz\")\n",
        "    elif num % 3 == 0:\n",
        "        print(\"Fizz\")\n",
        "    elif num % 5 == 0:\n",
        "        print(\"Buzz\")\n",
        "    else:\n",
        "        print(num)"
      ]
    },
    {
      "cell_type": "code",
      "source": [
        "def draw_rectangle(width, height):\n",
        "    if width < 2 or height < 2:\n",
        "        print(\"Both width and height must be greater than or equal to 2\")\n",
        "        return\n",
        "\n",
        "    horizontal_border = \"|\" + \"-\" * (width - 2) + \"|\"\n",
        "\n",
        "    print(horizontal_border)\n",
        "\n",
        "    for i in range(height - 2):\n",
        "        print(\"|\" + \" \" * (width - 2) + \"|\")\n",
        "\n",
        "    print(horizontal_border)\n",
        "\n",
        "draw_rectangle(12, 5)\n"
      ],
      "metadata": {
        "colab": {
          "base_uri": "https://localhost:8080/"
        },
        "id": "dDPW6mNHy1NE",
        "outputId": "2f49d45f-ba70-4767-b126-a5d284e79d36"
      },
      "execution_count": 4,
      "outputs": [
        {
          "output_type": "stream",
          "name": "stdout",
          "text": [
            "|----------|\n",
            "|          |\n",
            "|          |\n",
            "|          |\n",
            "|----------|\n"
          ]
        }
      ]
    },
    {
      "cell_type": "code",
      "source": [
        "def draw_triangle(height):\n",
        "    if height < 2:\n",
        "        print(\"Height must be greater than or equal to 2\")\n",
        "        return\n",
        "\n",
        "    base = 2 * height - 1\n",
        "\n",
        "    for i in range(height):\n",
        "        spaces = ' ' * (height - i - 1)\n",
        "        if i == 0:\n",
        "            print(spaces + '/')\n",
        "        elif i == height - 1:\n",
        "            print('/' + '_' * (base - 2) + '\\\\')\n",
        "        else:\n",
        "            print(spaces + '/' + ' ' * (2 * i - 1) + '\\\\')\n",
        "\n",
        "draw_triangle(9)\n"
      ],
      "metadata": {
        "colab": {
          "base_uri": "https://localhost:8080/"
        },
        "id": "xpNRrnluzV9F",
        "outputId": "16fede72-4401-4994-ea36-52e3f7e639c3"
      },
      "execution_count": 8,
      "outputs": [
        {
          "output_type": "stream",
          "name": "stdout",
          "text": [
            "        /\n",
            "       / \\\n",
            "      /   \\\n",
            "     /     \\\n",
            "    /       \\\n",
            "   /         \\\n",
            "  /           \\\n",
            " /             \\\n",
            "/_______________\\\n"
          ]
        }
      ]
    },
    {
      "cell_type": "code",
      "source": [
        "def round_grades(grades):\n",
        "    rounded_grades = []\n",
        "\n",
        "    for grade in grades:\n",
        "        if grade < 38:\n",
        "            rounded_grades.append(grade)\n",
        "        else:\n",
        "            next_multiple_of_5 = ((grade // 5) + 1) * 5\n",
        "            if next_multiple_of_5 - grade < 3:\n",
        "                rounded_grades.append(next_multiple_of_5)\n",
        "            else:\n",
        "                rounded_grades.append(grade)\n",
        "\n",
        "    return rounded_grades\n",
        "\n",
        "grades = [45, 72, 39, 91, 82, 67, 63]\n",
        "rounded = round_grades(grades)\n",
        "print(rounded)\n"
      ],
      "metadata": {
        "colab": {
          "base_uri": "https://localhost:8080/"
        },
        "id": "Wm0LasImzhJa",
        "outputId": "dbb841a3-d911-45eb-f51c-27f0bf63c05c"
      },
      "execution_count": 9,
      "outputs": [
        {
          "output_type": "stream",
          "name": "stdout",
          "text": [
            "[45, 72, 40, 91, 82, 67, 65]\n"
          ]
        }
      ]
    },
    {
      "cell_type": "code",
      "source": [
        "def rearrange_word(word):\n",
        "    word_list = list(word)\n",
        "    sorted_word = sorted(word_list)\n",
        "\n",
        "    for i in range(len(word_list)):\n",
        "        if word_list[i] != sorted_word[i]:\n",
        "            for j in range(i+1, len(word_list)):\n",
        "                if word_list[j] == sorted_word[i]:\n",
        "                    word_list[i], word_list[j] = word_list[j], word_list[i]\n",
        "                    break\n",
        "            break\n",
        "\n",
        "    result_word = ''.join(word_list)\n",
        "\n",
        "    return result_word\n",
        "\n",
        "word = input(\"Enter a word : \")\n",
        "\n",
        "rearranged_word = rearrange_word(word)\n",
        "print(\"The closest word in alphabetical order is:\", rearranged_word)\n"
      ],
      "metadata": {
        "colab": {
          "base_uri": "https://localhost:8080/"
        },
        "id": "2EBzP70lvqSI",
        "outputId": "8715c5f7-1f38-4d2a-ea09-b234c5785242"
      },
      "execution_count": 1,
      "outputs": [
        {
          "output_type": "stream",
          "name": "stdout",
          "text": [
            "Enter a word : hey\n",
            "The closest word in alphabetical order is: ehy\n"
          ]
        }
      ]
    }
  ]
}