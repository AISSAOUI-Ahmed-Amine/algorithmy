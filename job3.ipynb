{
  "nbformat": 4,
  "nbformat_minor": 0,
  "metadata": {
    "colab": {
      "provenance": []
    },
    "kernelspec": {
      "name": "python3",
      "display_name": "Python 3"
    },
    "language_info": {
      "name": "python"
    }
  },
  "cells": [
    {
      "cell_type": "code",
      "execution_count": 1,
      "metadata": {
        "colab": {
          "base_uri": "https://localhost:8080/"
        },
        "id": "EQsk35sE8JJH",
        "outputId": "e77183a5-20a9-4727-f00d-815c24a23d78"
      },
      "outputs": [
        {
          "output_type": "stream",
          "name": "stdout",
          "text": [
            "Entrer une chaine de caractere: may the force be with you\n",
            "The string has been written to 'output.txt'.\n"
          ]
        }
      ],
      "source": [
        "chaine = input(\"Entrer une chaine de caractere: \")\n",
        "\n",
        "with open(\"output.txt\", \"w\") as file:\n",
        "    file.write(chaine)\n",
        "\n",
        "print(\"The string has been written to 'output.txt'.\")\n"
      ]
    },
    {
      "cell_type": "code",
      "source": [
        "with open(\"output.txt\", \"r\") as file:\n",
        "  file_contents = file.read()\n",
        "  print(\"Contents of 'output.txt':\")\n",
        "  print(file_contents)\n"
      ],
      "metadata": {
        "colab": {
          "base_uri": "https://localhost:8080/"
        },
        "id": "UQQXT-4j8zsS",
        "outputId": "f83b1a7e-bf17-431e-ae0a-6f1ea63a3d98"
      },
      "execution_count": 2,
      "outputs": [
        {
          "output_type": "stream",
          "name": "stdout",
          "text": [
            "Contents of 'output.txt':\n",
            "may the force be with you\n"
          ]
        }
      ]
    },
    {
      "cell_type": "code",
      "source": [
        "import re\n",
        "extension_counts = {}\n",
        "\n",
        "with open(\"domains.xml\", \"r\") as file:\n",
        "  file_contents = file.read()\n",
        "\n",
        "  extensions = re.findall(r'\\.([a-zA-Z]+)\\s*<', file_contents)\n",
        "\n",
        "  for extension in extensions:\n",
        "    extension_counts[extension] = extension_counts.get(extension, 0) + 1\n",
        "    print(\"Domain Extension Counts:\")\n",
        "  for extension, count in extension_counts.items():\n",
        "    print(f\"{extension}: {count}\")"
      ],
      "metadata": {
        "colab": {
          "base_uri": "https://localhost:8080/",
          "height": 245
        },
        "id": "UQgan-B69BHh",
        "outputId": "857585c4-9058-4d06-e645-c612ef410f5e"
      },
      "execution_count": 1,
      "outputs": [
        {
          "output_type": "error",
          "ename": "FileNotFoundError",
          "evalue": "ignored",
          "traceback": [
            "\u001b[0;31m---------------------------------------------------------------------------\u001b[0m",
            "\u001b[0;31mFileNotFoundError\u001b[0m                         Traceback (most recent call last)",
            "\u001b[0;32m<ipython-input-1-413aa96e22eb>\u001b[0m in \u001b[0;36m<cell line: 4>\u001b[0;34m()\u001b[0m\n\u001b[1;32m      2\u001b[0m \u001b[0mextension_counts\u001b[0m \u001b[0;34m=\u001b[0m \u001b[0;34m{\u001b[0m\u001b[0;34m}\u001b[0m\u001b[0;34m\u001b[0m\u001b[0;34m\u001b[0m\u001b[0m\n\u001b[1;32m      3\u001b[0m \u001b[0;34m\u001b[0m\u001b[0m\n\u001b[0;32m----> 4\u001b[0;31m \u001b[0;32mwith\u001b[0m \u001b[0mopen\u001b[0m\u001b[0;34m(\u001b[0m\u001b[0;34m\"domains.xml\"\u001b[0m\u001b[0;34m,\u001b[0m \u001b[0;34m\"r\"\u001b[0m\u001b[0;34m)\u001b[0m \u001b[0;32mas\u001b[0m \u001b[0mfile\u001b[0m\u001b[0;34m:\u001b[0m\u001b[0;34m\u001b[0m\u001b[0;34m\u001b[0m\u001b[0m\n\u001b[0m\u001b[1;32m      5\u001b[0m   \u001b[0mfile_contents\u001b[0m \u001b[0;34m=\u001b[0m \u001b[0mfile\u001b[0m\u001b[0;34m.\u001b[0m\u001b[0mread\u001b[0m\u001b[0;34m(\u001b[0m\u001b[0;34m)\u001b[0m\u001b[0;34m\u001b[0m\u001b[0;34m\u001b[0m\u001b[0m\n\u001b[1;32m      6\u001b[0m \u001b[0;34m\u001b[0m\u001b[0m\n",
            "\u001b[0;31mFileNotFoundError\u001b[0m: [Errno 2] No such file or directory: 'domains.xml'"
          ]
        }
      ]
    },
    {
      "cell_type": "code",
      "source": [
        "import re\n",
        "\n",
        "def count_words(text):\n",
        "    words = re.findall(r'\\b\\w+\\b', text)\n",
        "    return len(words)\n",
        "\n",
        "with open(\"data.txt\", \"r\") as file:\n",
        "    file_contents = file.read()\n",
        "\n",
        "word_count = count_words(file_contents)\n",
        "print(word_count)\n"
      ],
      "metadata": {
        "colab": {
          "base_uri": "https://localhost:8080/",
          "height": 245
        },
        "id": "g5Z0FSiRB1Rh",
        "outputId": "0c820f8c-ec0a-4576-cc01-be73a2f06a6d"
      },
      "execution_count": 2,
      "outputs": [
        {
          "output_type": "error",
          "ename": "FileNotFoundError",
          "evalue": "ignored",
          "traceback": [
            "\u001b[0;31m---------------------------------------------------------------------------\u001b[0m",
            "\u001b[0;31mFileNotFoundError\u001b[0m                         Traceback (most recent call last)",
            "\u001b[0;32m<ipython-input-2-b2e85d0d54e4>\u001b[0m in \u001b[0;36m<cell line: 7>\u001b[0;34m()\u001b[0m\n\u001b[1;32m      5\u001b[0m     \u001b[0;32mreturn\u001b[0m \u001b[0mlen\u001b[0m\u001b[0;34m(\u001b[0m\u001b[0mwords\u001b[0m\u001b[0;34m)\u001b[0m\u001b[0;34m\u001b[0m\u001b[0;34m\u001b[0m\u001b[0m\n\u001b[1;32m      6\u001b[0m \u001b[0;34m\u001b[0m\u001b[0m\n\u001b[0;32m----> 7\u001b[0;31m \u001b[0;32mwith\u001b[0m \u001b[0mopen\u001b[0m\u001b[0;34m(\u001b[0m\u001b[0;34m\"data.txt\"\u001b[0m\u001b[0;34m,\u001b[0m \u001b[0;34m\"r\"\u001b[0m\u001b[0;34m)\u001b[0m \u001b[0;32mas\u001b[0m \u001b[0mfile\u001b[0m\u001b[0;34m:\u001b[0m\u001b[0;34m\u001b[0m\u001b[0;34m\u001b[0m\u001b[0m\n\u001b[0m\u001b[1;32m      8\u001b[0m     \u001b[0mfile_contents\u001b[0m \u001b[0;34m=\u001b[0m \u001b[0mfile\u001b[0m\u001b[0;34m.\u001b[0m\u001b[0mread\u001b[0m\u001b[0;34m(\u001b[0m\u001b[0;34m)\u001b[0m\u001b[0;34m\u001b[0m\u001b[0;34m\u001b[0m\u001b[0m\n\u001b[1;32m      9\u001b[0m \u001b[0;34m\u001b[0m\u001b[0m\n",
            "\u001b[0;31mFileNotFoundError\u001b[0m: [Errno 2] No such file or directory: 'data.txt'"
          ]
        }
      ]
    },
    {
      "cell_type": "code",
      "source": [
        "import re\n",
        "\n",
        "def count_words_of_size(text, size):\n",
        "    words = re.findall(r'\\b\\w+\\b', text)\n",
        "    return sum(1 for word in words if len(word) == size)\n",
        "\n",
        "word_size = int(input(\"Enter word size number: \"))\n",
        "\n",
        "with open(\"data.txt\", \"r\") as file:\n",
        "    file_contents = file.read()\n",
        "\n",
        "word_count = count_words_of_size(file_contents, word_size)\n",
        "print(word_count)\n"
      ],
      "metadata": {
        "colab": {
          "base_uri": "https://localhost:8080/",
          "height": 262
        },
        "id": "aj_jWdFFfLkj",
        "outputId": "4bb9c4bc-e501-4a4c-81a8-8a32dea7adb6"
      },
      "execution_count": 3,
      "outputs": [
        {
          "name": "stdout",
          "output_type": "stream",
          "text": [
            "Enter word size number: 5\n"
          ]
        },
        {
          "output_type": "error",
          "ename": "FileNotFoundError",
          "evalue": "ignored",
          "traceback": [
            "\u001b[0;31m---------------------------------------------------------------------------\u001b[0m",
            "\u001b[0;31mFileNotFoundError\u001b[0m                         Traceback (most recent call last)",
            "\u001b[0;32m<ipython-input-3-fe8de3ceb6de>\u001b[0m in \u001b[0;36m<cell line: 9>\u001b[0;34m()\u001b[0m\n\u001b[1;32m      7\u001b[0m \u001b[0mword_size\u001b[0m \u001b[0;34m=\u001b[0m \u001b[0mint\u001b[0m\u001b[0;34m(\u001b[0m\u001b[0minput\u001b[0m\u001b[0;34m(\u001b[0m\u001b[0;34m\"Enter word size number: \"\u001b[0m\u001b[0;34m)\u001b[0m\u001b[0;34m)\u001b[0m\u001b[0;34m\u001b[0m\u001b[0;34m\u001b[0m\u001b[0m\n\u001b[1;32m      8\u001b[0m \u001b[0;34m\u001b[0m\u001b[0m\n\u001b[0;32m----> 9\u001b[0;31m \u001b[0;32mwith\u001b[0m \u001b[0mopen\u001b[0m\u001b[0;34m(\u001b[0m\u001b[0;34m\"data.txt\"\u001b[0m\u001b[0;34m,\u001b[0m \u001b[0;34m\"r\"\u001b[0m\u001b[0;34m)\u001b[0m \u001b[0;32mas\u001b[0m \u001b[0mfile\u001b[0m\u001b[0;34m:\u001b[0m\u001b[0;34m\u001b[0m\u001b[0;34m\u001b[0m\u001b[0m\n\u001b[0m\u001b[1;32m     10\u001b[0m     \u001b[0mfile_contents\u001b[0m \u001b[0;34m=\u001b[0m \u001b[0mfile\u001b[0m\u001b[0;34m.\u001b[0m\u001b[0mread\u001b[0m\u001b[0;34m(\u001b[0m\u001b[0;34m)\u001b[0m\u001b[0;34m\u001b[0m\u001b[0;34m\u001b[0m\u001b[0m\n\u001b[1;32m     11\u001b[0m \u001b[0;34m\u001b[0m\u001b[0m\n",
            "\u001b[0;31mFileNotFoundError\u001b[0m: [Errno 2] No such file or directory: 'data.txt'"
          ]
        }
      ]
    },
    {
      "cell_type": "code",
      "source": [
        "import re\n",
        "import matplotlib.pyplot as plt\n",
        "\n",
        "def count_letters(text):\n",
        "    letter_counts = {}\n",
        "    letters = re.findall(r'[a-zA-Z]', text)\n",
        "    for letter in letters:\n",
        "        letter_lower = letter.lower()\n",
        "        letter_counts[letter_lower] = letter_counts.get(letter_lower, 0) + 1\n",
        "    return letter_counts\n",
        "\n",
        "with open(\"data.txt\", \"r\") as file:\n",
        "    file_contents = file.read()\n",
        "\n",
        "letter_counts = count_letters(file_contents)\n",
        "\n",
        "total_letters = sum(letter_counts.values())\n",
        "\n",
        "letter_percentages = {letter: (count / total_letters) * 100 for letter, count in letter_counts.items()}\n",
        "\n",
        "plt.figure(figsize=(9, 6))\n",
        "plt.bar(letter_percentages.keys(), letter_percentages.values())\n",
        "plt.xlabel(\"Lettres\")\n",
        "plt.ylabel(\"Pourcentage (%)\")\n",
        "plt.title(\"Pourcentage d'apparition de chaque lettre\")\n",
        "plt.show()\n"
      ],
      "metadata": {
        "colab": {
          "base_uri": "https://localhost:8080/",
          "height": 245
        },
        "id": "aflKEhYBfjzd",
        "outputId": "66ba10bd-65ec-4c7d-cc16-e1f5224d2708"
      },
      "execution_count": 4,
      "outputs": [
        {
          "output_type": "error",
          "ename": "NameError",
          "evalue": "ignored",
          "traceback": [
            "\u001b[0;31m---------------------------------------------------------------------------\u001b[0m",
            "\u001b[0;31mNameError\u001b[0m                                 Traceback (most recent call last)",
            "\u001b[0;32m<ipython-input-4-c907ca7dfd35>\u001b[0m in \u001b[0;36m<cell line: 12>\u001b[0;34m()\u001b[0m\n\u001b[1;32m     10\u001b[0m     \u001b[0;32mreturn\u001b[0m \u001b[0mletter_counts\u001b[0m\u001b[0;34m\u001b[0m\u001b[0;34m\u001b[0m\u001b[0m\n\u001b[1;32m     11\u001b[0m \u001b[0;34m\u001b[0m\u001b[0m\n\u001b[0;32m---> 12\u001b[0;31m \u001b[0;32mwith\u001b[0m \u001b[0mopen\u001b[0m\u001b[0;34m(\u001b[0m\u001b[0;34mf\"{folder_path}/data.txt\"\u001b[0m\u001b[0;34m,\u001b[0m \u001b[0;34m\"r\"\u001b[0m\u001b[0;34m)\u001b[0m \u001b[0;32mas\u001b[0m \u001b[0mfile\u001b[0m\u001b[0;34m:\u001b[0m\u001b[0;34m\u001b[0m\u001b[0;34m\u001b[0m\u001b[0m\n\u001b[0m\u001b[1;32m     13\u001b[0m     \u001b[0mfile_contents\u001b[0m \u001b[0;34m=\u001b[0m \u001b[0mfile\u001b[0m\u001b[0;34m.\u001b[0m\u001b[0mread\u001b[0m\u001b[0;34m(\u001b[0m\u001b[0;34m)\u001b[0m\u001b[0;34m\u001b[0m\u001b[0;34m\u001b[0m\u001b[0m\n\u001b[1;32m     14\u001b[0m \u001b[0;34m\u001b[0m\u001b[0m\n",
            "\u001b[0;31mNameError\u001b[0m: name 'folder_path' is not defined"
          ]
        }
      ]
    },
    {
      "cell_type": "code",
      "source": [
        "import re\n",
        "import matplotlib.pyplot as plt\n",
        "\n",
        "def count_word_sizes(text):\n",
        "    word_sizes = {}\n",
        "    words = re.findall(r'\\b\\w+\\b', text)\n",
        "    for word in words:\n",
        "        size = len(word)\n",
        "        word_sizes[size] = word_sizes.get(size, 0) + 1\n",
        "    return word_sizes\n",
        "\n",
        "\n",
        "with open(\"data.txt\", \"r\") as file:\n",
        "    file_contents = file.read()\n",
        "\n",
        "word_sizes = count_word_sizes(file_contents)\n",
        "\n",
        "total_words = sum(word_sizes.values())\n",
        "\n",
        "word_size_percentages = {size: (count / total_words) * 100 for size, count in word_sizes.items()}\n",
        "\n",
        "plt.figure(figsize=(9, 6))\n",
        "plt.bar(word_size_percentages.keys(), word_size_percentages.values())\n",
        "plt.xlabel('Word Size')\n",
        "plt.ylabel('Pourcentage (%)')\n",
        "plt.title('Percentage of Appearance of Each Word Size')\n",
        "plt.xticks(list(word_size_percentages.keys()))\n",
        "plt.show()"
      ],
      "metadata": {
        "id": "Iq75PJj2f6SO"
      },
      "execution_count": null,
      "outputs": []
    },
    {
      "cell_type": "code",
      "source": [
        "import re\n",
        "import matplotlib.pyplot as plt\n",
        "\n",
        "def count_starting_letters(text):\n",
        "    letter_counts = {}\n",
        "    words = re.findall(r'\\b\\w+\\b', text)\n",
        "    for word in words:\n",
        "        first_letter = word[0].lower()\n",
        "        letter_counts[first_letter] = letter_counts.get(first_letter, 0) + 1\n",
        "    return letter_counts\n",
        "\n",
        "with open(\"data.txt\", \"r\") as file:\n",
        "    file_contents = file.read()\n",
        "\n",
        "starting_letter_counts = count_starting_letters(file_contents)\n",
        "\n",
        "total_starting_letters = sum(starting_letter_counts.values())\n",
        "\n",
        "starting_letter_percentages = {letter: (count / total_starting_letters) * 100 for letter, count in starting_letter_counts.items()}\n",
        "\n",
        "plt.figure(figsize=(12, 6))\n",
        "plt.bar(starting_letter_percentages.keys(), starting_letter_percentages.values())\n",
        "plt.xlabel('Starting Letters')\n",
        "plt.ylabel('Pourcentage (%)')\n",
        "plt.title('Percentage of Presence of Each Starting Letter')\n",
        "plt.show()"
      ],
      "metadata": {
        "id": "NCIGo90ygMqU"
      },
      "execution_count": null,
      "outputs": []
    },
    {
      "cell_type": "code",
      "source": [
        "import re\n",
        "\n",
        "def count_following_letters(text):\n",
        "    letter_counts = {}\n",
        "    words = re.findall(r'\\b\\w+\\b', text)\n",
        "    for word in words:\n",
        "        word = word.lower()\n",
        "        for i in range(len(word) - 1):\n",
        "            current_letter = word[i]\n",
        "            next_letter = word[i + 1]\n",
        "            if current_letter.isalpha() and next_letter.isalpha():\n",
        "                if current_letter not in letter_counts:\n",
        "                    letter_counts[current_letter] = {}\n",
        "                letter_counts[current_letter][next_letter] = letter_counts[current_letter].get(next_letter, 0) + 1\n",
        "    return letter_counts\n",
        "\n",
        "with open(\"data.txt\", \"r\") as file:\n",
        "    file_contents = file.read()\n",
        "\n",
        "following_letter_counts = count_following_letters(file_contents)\n",
        "\n",
        "for letter, counts in following_letter_counts.items():\n",
        "        total_counts = sum(counts.values())\n",
        "        percentages = {next_letter: (count / total_counts) * 100 for next_letter, count in counts.items()}\n",
        "        print(f\"{letter.upper()}: {', '.join([f'{next_letter}({percent:.1f}%)' for next_letter, percent in percentages.items()])}\")\n",
        ""
      ],
      "metadata": {
        "id": "T5B4Z5edgWel"
      },
      "execution_count": null,
      "outputs": []
    },
    {
      "cell_type": "code",
      "source": [
        "import re\n",
        "\n",
        "with open(\"data.txt\", \"r\") as file:\n",
        "    file_contents = file.read()\n",
        "\n",
        "english_word_match = re.search(r'\\b[a-zA-Z]+\\b', file_contents)\n",
        "\n",
        "if english_word_match:\n",
        "    english_word = english_word_match.group()\n",
        "    print(\"The English word in the file is:\", english_word)\n",
        "\n"
      ],
      "metadata": {
        "id": "ic49aFxRgf6E"
      },
      "execution_count": null,
      "outputs": []
    }
  ]
}